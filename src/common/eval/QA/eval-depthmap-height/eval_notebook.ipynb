{
 "cells": [
  {
   "cell_type": "code",
   "execution_count": 11,
   "metadata": {},
   "outputs": [],
   "source": [
    "import os\n",
    "import time\n",
    "import glob\n",
    "import shutil\n",
    "import tempfile\n",
    "from azureml.core import Workspace, Experiment, Run\n",
    "\n",
    "from auth import get_auth\n",
    "from src.qa_config import MODEL_CONFIG, EVAL_CONFIG, DATA_CONFIG, RESULT_CONFIG"
   ]
  },
  {
   "cell_type": "code",
   "execution_count": 12,
   "metadata": {},
   "outputs": [
    {
     "data": {
      "text/plain": [
       "['src/constants.py', 'src/evaluate.py', 'src/qa_config.py', 'src/utils.py']"
      ]
     },
     "execution_count": 12,
     "metadata": {},
     "output_type": "execute_result"
    }
   ],
   "source": [
    "code_dir = \"src\"\n",
    "paths = glob.glob(os.path.join(code_dir, \"*.py\"))\n",
    "paths"
   ]
  },
  {
   "cell_type": "code",
   "execution_count": 13,
   "metadata": {},
   "outputs": [],
   "source": [
    "#create a temp folder and copy code, model and dataset"
   ]
  },
  {
   "cell_type": "code",
   "execution_count": 14,
   "metadata": {},
   "outputs": [
    {
     "name": "stdout",
     "output_type": "stream",
     "text": [
      "Creating temp folder...\n",
      "Done.\n"
     ]
    }
   ],
   "source": [
    "print(\"Creating temp folder...\")\n",
    "temp_path = \"tmp_eval\"\n",
    "if os.path.exists(temp_path):\n",
    "    shutil.rmtree(temp_path)\n",
    "os.mkdir(temp_path)\n",
    "\n",
    "for p in paths:\n",
    "    shutil.copy(p, temp_path)\n",
    "print(\"Done.\")"
   ]
  },
  {
   "cell_type": "code",
   "execution_count": 15,
   "metadata": {},
   "outputs": [],
   "source": [
    "def download_model(ws, EXPERIMENT_NAME, RUN_ID, INPUT_LOCATION, OUTPUT_LOCATION):\n",
    "    '''\n",
    "    Download the pretrained model\n",
    "    Input:\n",
    "         ws: workspace to access the experiment\n",
    "         EXPERIMENT_NAME: Name of the experiment in which model is saved\n",
    "         RUN_ID: Run Id of the experiment in which model is pre-trained \n",
    "         INPUT_LOCATION: Input location in a RUN Id\n",
    "         OUTPUT_LOCATION: Location for saving the model\n",
    "    '''\n",
    "    experiment = Experiment(workspace = ws, name = EXPERIMENT_NAME)\n",
    "    #Download the model on which evaluation need to be done\n",
    "    run = Run(experiment, run_id = RUN_ID)\n",
    "    #run.get_details()\n",
    "    run.download_file(INPUT_LOCATION, OUTPUT_LOCATION)\n",
    "    print(\"Successfully downloaded model\")"
   ]
  },
  {
   "cell_type": "code",
   "execution_count": 17,
   "metadata": {},
   "outputs": [],
   "source": [
    "#When run manually use below\n",
    "ws = Workspace.from_config()\n",
    "#When run through pipeline use below\n",
    "#ws = Workspace.from_config(auth = get_auth())"
   ]
  },
  {
   "cell_type": "code",
   "execution_count": 18,
   "metadata": {},
   "outputs": [
    {
     "name": "stdout",
     "output_type": "stream",
     "text": [
      "Successfully downloaded model\n"
     ]
    }
   ],
   "source": [
    "download_model(ws, MODEL_CONFIG.EXPERIMENT_NAME, MODEL_CONFIG.RUN_ID,\n",
    "    os.path.join(MODEL_CONFIG.INPUT_LOCATION, MODEL_CONFIG.NAME), temp_path)"
   ]
  },
  {
   "cell_type": "code",
   "execution_count": 19,
   "metadata": {},
   "outputs": [],
   "source": [
    "experiment = Experiment(workspace = ws, name = EVAL_CONFIG.EXPERIMENT_NAME)"
   ]
  },
  {
   "cell_type": "code",
   "execution_count": 20,
   "metadata": {},
   "outputs": [],
   "source": [
    "#Find/create a compute target."
   ]
  },
  {
   "cell_type": "code",
   "execution_count": 21,
   "metadata": {},
   "outputs": [
    {
     "name": "stdout",
     "output_type": "stream",
     "text": [
      "Found existing compute target.\n"
     ]
    },
    {
     "data": {
      "text/plain": [
       "AmlCompute(workspace=Workspace.create(name='cgm-ml-prod-we-azml', subscription_id='9b5bbfae-d5d1-4aae-a2ca-75159c0c887d', resource_group='cgm-ml-prod-we-rg'), name=gpu-cluster, id=/subscriptions/9b5bbfae-d5d1-4aae-a2ca-75159c0c887d/resourceGroups/cgm-ml-prod-we-rg/providers/Microsoft.MachineLearningServices/workspaces/cgm-ml-prod-we-azml/computes/gpu-cluster, type=AmlCompute, provisioning_state=Succeeded, location=westeurope, tags=None)"
      ]
     },
     "execution_count": 21,
     "metadata": {},
     "output_type": "execute_result"
    }
   ],
   "source": [
    "from azureml.core.compute import ComputeTarget, AmlCompute\n",
    "from azureml.core.compute_target import ComputeTargetException\n",
    "\n",
    "# Compute cluster exists. Just connect to it.\n",
    "try:\n",
    "    compute_target = ComputeTarget(workspace = ws, name = EVAL_CONFIG.CLUSTER_NAME)\n",
    "    print(\"Found existing compute target.\")\n",
    "\n",
    "# Compute cluster does not exist. Create one.    \n",
    "except ComputeTargetException:\n",
    "    print(\"Creating a new compute target...\")\n",
    "    compute_config = AmlCompute.provisioning_configuration(\n",
    "        vm_size = 'Standard_NC6', \n",
    "        max_nodes = 4\n",
    "    )\n",
    "    compute_target = ComputeTarget.create(workspace, cluster_name, compute_config)\n",
    "    compute_target.wait_for_completion(show_output = True, min_node_count = None, timeout_in_minutes = 20)\n",
    "    \n",
    "compute_target"
   ]
  },
  {
   "cell_type": "code",
   "execution_count": 22,
   "metadata": {},
   "outputs": [
    {
     "data": {
      "text/plain": [
       "{\n",
       "  \"source\": [\n",
       "    \"('omdena_datasets', 'depthmap_evaluation_dataset/**')\"\n",
       "  ],\n",
       "  \"definition\": [\n",
       "    \"GetDatastoreFiles\"\n",
       "  ],\n",
       "  \"registration\": {\n",
       "    \"id\": \"a8ac712b-11d1-42cc-99e3-6e3e03134dd3\",\n",
       "    \"name\": \"anon_depthmap_evaluation\",\n",
       "    \"version\": 1,\n",
       "    \"description\": \"An evaluation dataset for depthmaps based scans the same distribution as anon_pcd_evalauation\",\n",
       "    \"workspace\": \"Workspace.create(name='cgm-ml-prod-we-azml', subscription_id='9b5bbfae-d5d1-4aae-a2ca-75159c0c887d', resource_group='cgm-ml-prod-we-rg')\"\n",
       "  }\n",
       "}"
      ]
     },
     "execution_count": 22,
     "metadata": {},
     "output_type": "execute_result"
    }
   ],
   "source": [
    "dataset = ws.datasets[DATA_CONFIG.NAME]\n",
    "dataset"
   ]
  },
  {
   "cell_type": "code",
   "execution_count": 23,
   "metadata": {},
   "outputs": [
    {
     "data": {
      "text/plain": [
       "['1.10', '1.12', '1.13', '2.0', '2.1', '2.2']"
      ]
     },
     "execution_count": 23,
     "metadata": {},
     "output_type": "execute_result"
    }
   ],
   "source": [
    "from azureml.core.runconfig import MpiConfiguration\n",
    "from azureml.train.dnn import TensorFlow\n",
    "TensorFlow.get_supported_versions()"
   ]
  },
  {
   "cell_type": "code",
   "execution_count": 24,
   "metadata": {},
   "outputs": [
    {
     "data": {
      "text/plain": [
       "{'--MODEL_EXPERIMENT_NAME': 'q3-depthmap-plaincnn-height-95k-ps',\n",
       " '--MODEL_RUN_ID': 'q3-depthmap-plaincnn-height-95k-ps_1604844442_da24a8d9',\n",
       " '--MODEL_INPUT_LOCATION': 'outputs',\n",
       " '--MODEL_NAME': 'best_model.h5',\n",
       " '--EVAL_NAME': 'q3-depthmap-plaincnn-height-95k-ps-run_6',\n",
       " '--EVAL_EXPERIMENT_NAME': 'QA-pipeline_ps',\n",
       " '--EVAL_CLUSTER_NAME': 'gpu-cluster',\n",
       " '--EVAL_DEBUG_RUN': False,\n",
       " '--EVAL_DEBUG_NUMBER_OF_SCAN': 50,\n",
       " '--EVAL_SPLIT_SEED': 0,\n",
       " '--DATA_NAME': 'anon_depthmap_evaluation',\n",
       " '--DATA_IMAGE_TARGET_HEIGHT': 240,\n",
       " '--DATA_IMAGE_TARGET_WIDTH': 180,\n",
       " '--DATA_BATCH_SIZE': 256,\n",
       " '--DATA_NORMALIZATION_VALUE': 7.5,\n",
       " '--DATA_TARGET_INDEXES': [0],\n",
       " '--DATA_CODE_TO_SCANTYPE': {'100': '_front',\n",
       "  '101': '_360',\n",
       "  '102': '_back',\n",
       "  '200': '_lyingfront',\n",
       "  '201': '_lyingrot',\n",
       "  '202': '_lyingback'},\n",
       " '--RESULT_ACCURACIES': [0.2, 0.4, 0.6, 1, 1.2, 2.0, 2.5, 3.0, 4.0, 5.0, 6.0],\n",
       " '--RESULT_COLUMNS': ['qrcode', 'artifact', 'scantype', 'GT', 'predicted'],\n",
       " '--RESULT_SAVE_PATH': 'outputs/results.csv'}"
      ]
     },
     "execution_count": 24,
     "metadata": {},
     "output_type": "execute_result"
    }
   ],
   "source": [
    "#parameters used in the evaluation\n",
    "script_params = {f\"--MODEL_{k}\": v for k, v in MODEL_CONFIG.items()}\n",
    "script_params.update({f\"--EVAL_{k}\": v for k, v in EVAL_CONFIG.items()})\n",
    "script_params.update({f\"--DATA_{k}\": v for k, v in DATA_CONFIG.items()})\n",
    "script_params.update({f\"--RESULT_{k}\": v for k, v in RESULT_CONFIG.items()})\n",
    "script_params"
   ]
  },
  {
   "cell_type": "code",
   "execution_count": 25,
   "metadata": {},
   "outputs": [],
   "source": [
    "start = time.time()"
   ]
  },
  {
   "cell_type": "code",
   "execution_count": 26,
   "metadata": {},
   "outputs": [
    {
     "name": "stderr",
     "output_type": "stream",
     "text": [
      "WARNING - If 'script' has been provided here and a script file name has been specified in 'run_config', 'script' provided in ScriptRunConfig initialization will take precedence.\n",
      "WARNING - If 'arguments' has been provided here and arguments have been specified in 'run_config', 'arguments' provided in ScriptRunConfig initialization will take precedence.\n",
      "Submitting /mnt/resource/batch/tasks/shared/LS_root/mounts/clusters/pankaja-compins/code/Users/pankaja_us/cgm-ml/src/common/eval/QA/eval-depthmap-height/tmp_eval directory for run. The size of the directory >= 25 MB, so it can take a few minutes.\n"
     ]
    },
    {
     "data": {
      "text/html": [
       "<table style=\"width:100%\"><tr><th>Experiment</th><th>Id</th><th>Type</th><th>Status</th><th>Details Page</th><th>Docs Page</th></tr><tr><td>QA-pipeline_ps</td><td>QA-pipeline_ps_1605117318_13b13340</td><td>azureml.scriptrun</td><td>Starting</td><td><a href=\"https://ml.azure.com/experiments/QA-pipeline_ps/runs/QA-pipeline_ps_1605117318_13b13340?wsid=/subscriptions/9b5bbfae-d5d1-4aae-a2ca-75159c0c887d/resourcegroups/cgm-ml-prod-we-rg/workspaces/cgm-ml-prod-we-azml\" target=\"_blank\" rel=\"noopener\">Link to Azure Machine Learning studio</a></td><td><a href=\"https://docs.microsoft.com/en-us/python/api/azureml-core/azureml.core.script_run.ScriptRun?view=azure-ml-py\" target=\"_blank\" rel=\"noopener\">Link to Documentation</a></td></tr></table>"
      ],
      "text/plain": [
       "Run(Experiment: QA-pipeline_ps,\n",
       "Id: QA-pipeline_ps_1605117318_13b13340,\n",
       "Type: azureml.scriptrun,\n",
       "Status: Starting)"
      ]
     },
     "execution_count": 26,
     "metadata": {},
     "output_type": "execute_result"
    }
   ],
   "source": [
    "tags= {}\n",
    "# Specify pip packages here.\n",
    "pip_packages = [\n",
    "    \"azureml-dataprep[fuse,pandas]\",\n",
    "    \"glob2\",\n",
    "    \"opencv-python==4.1.2.30\",\n",
    "    \"matplotlib\",\n",
    "]\n",
    "\n",
    "# Create the estimator.\n",
    "estimator = TensorFlow(\n",
    "    source_directory=temp_path,\n",
    "    compute_target=compute_target,\n",
    "    entry_script=\"evaluate.py\",\n",
    "    use_gpu=True,\n",
    "    framework_version=\"2.2\",\n",
    "    inputs=[dataset.as_named_input(\"dataset\").as_mount()],\n",
    "    pip_packages=pip_packages,\n",
    "    script_params=script_params\n",
    ")\n",
    "\n",
    "# Set compute target.\n",
    "estimator.run_config.target = compute_target\n",
    "\n",
    "# Run the experiment.\n",
    "run = experiment.submit(estimator, tags=tags)\n",
    "\n",
    "# Show run.\n",
    "run"
   ]
  },
  {
   "cell_type": "code",
   "execution_count": null,
   "metadata": {},
   "outputs": [],
   "source": [
    "#Check the logs of the current run until is complete\n",
    "run.wait_for_completion(show_output=True)"
   ]
  },
  {
   "cell_type": "code",
   "execution_count": null,
   "metadata": {},
   "outputs": [],
   "source": [
    "#Print Completed when run is completed\n",
    "print(run.get_status())"
   ]
  },
  {
   "cell_type": "code",
   "execution_count": 23,
   "metadata": {},
   "outputs": [
    {
     "name": "stdout",
     "output_type": "stream",
     "text": [
      "Total time for evaluation experiment: 5.018014669418335\n"
     ]
    }
   ],
   "source": [
    "end = time.time()\n",
    "print(\"Total time for evaluation experiment: {} sec\".format(end-start))"
   ]
  },
  {
   "cell_type": "code",
   "execution_count": null,
   "metadata": {},
   "outputs": [],
   "source": [
    "#Download the evaluation results of the model \n",
    "GET_CSV_FROM_EXPERIMENT_PATH = '.'\n",
    "run.download_file(RESULT_CONFIG.SAVE_PATH, GET_CSV_FROM_EXPERIMENT_PATH)\n",
    "print(\"Downloaded the result.csv\")"
   ]
  },
  {
   "cell_type": "code",
   "execution_count": null,
   "metadata": {},
   "outputs": [],
   "source": [
    "#Display the evaluation results\n",
    "from IPython.display import display, HTML\n",
    "import pandas as pd\n",
    "\n",
    "result = pd.read_csv('result.csv')\n",
    "display(HTML(result.to_html()))"
   ]
  },
  {
   "cell_type": "code",
   "execution_count": null,
   "metadata": {},
   "outputs": [],
   "source": [
    "#Delete temp folder\n",
    "shutil.rmtree(temp_path)"
   ]
  },
  {
   "cell_type": "code",
   "execution_count": null,
   "metadata": {},
   "outputs": [],
   "source": []
  }
 ],
 "metadata": {
  "kernelspec": {
   "display_name": "Python 3",
   "language": "python",
   "name": "python3"
  },
  "language_info": {
   "codemirror_mode": {
    "name": "ipython",
    "version": 3
   },
   "file_extension": ".py",
   "mimetype": "text/x-python",
   "name": "python",
   "nbconvert_exporter": "python",
   "pygments_lexer": "ipython3",
   "version": "3.6.9"
  }
 },
 "nbformat": 4,
 "nbformat_minor": 4
}
